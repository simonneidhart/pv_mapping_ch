{
 "cells": [
  {
   "cell_type": "code",
   "execution_count": 14,
   "metadata": {},
   "outputs": [],
   "source": [
    "import pyproj\n",
    "import pandas as pd\n",
    "import matplotlib.pyplot as plt\n",
    "from tqdm import tqdm\n",
    "\n",
    "WGS84 = \"epsg:4326\"\n",
    "LV95 = \"epsg:2056\"\n",
    "\n",
    "\n",
    "transformer = pyproj.Transformer.from_crs(LV95, WGS84)\n",
    "\n",
    "# https://de.wikipedia.org/wiki/Geographische_Extrempunkte_der_Schweiz\n",
    "\n",
    "LAT_MIN_WGS84 = 45.81796\n",
    "LAT_MAX_WGS84 = 47.80845\n",
    "LON_MIN_WGS84 = 5.95590\n",
    "LON_MAX_WGS84 = 10.49219\n"
   ]
  },
  {
   "cell_type": "code",
   "execution_count": 15,
   "metadata": {},
   "outputs": [],
   "source": [
    "%matplotlib widget\n",
    "\n",
    "pv_data = pd.read_csv(\"../data/pv_data_merged.csv\")\n"
   ]
  },
  {
   "cell_type": "code",
   "execution_count": 16,
   "metadata": {},
   "outputs": [],
   "source": [
    "def swapped(row) -> bool:\n",
    "    lat, lon = transformer.transform(row._x, row._y)\n",
    "    if lat < LAT_MIN_WGS84 or lon > LON_MAX_WGS84 or lat > LAT_MAX_WGS84 or lon < LON_MIN_WGS84:\n",
    "        return True\n",
    "    return False\n",
    "\n",
    "pv_data[\"swapped\"] = pv_data.apply(swapped, axis=1)\n"
   ]
  },
  {
   "cell_type": "code",
   "execution_count": 19,
   "metadata": {},
   "outputs": [],
   "source": [
    "pv_data.loc[pv_data[\"swapped\"], ['_x', '_y']] = pv_data.loc[pv_data[\"swapped\"], ['_y', '_x']].values"
   ]
  },
  {
   "cell_type": "code",
   "execution_count": 24,
   "metadata": {},
   "outputs": [],
   "source": [
    "pv_data[\"lat\"], pv_data[\"lon\"] = transformer.transform(pv_data[\"_x\"], pv_data[\"_y\"])"
   ]
  },
  {
   "cell_type": "code",
   "execution_count": 30,
   "metadata": {},
   "outputs": [],
   "source": [
    "pv_data[\"zipcode\"] = pv_data[\"PostCode\"]\n",
    "pv_data[\"plant_id\"] = pv_data[\"xtf_id\"]\n",
    "pv_data[\"power_kw\"] = float(\"nan\")\n",
    "pv_data[\"id\"] = pv_data[\"Unnamed: 0\"]"
   ]
  },
  {
   "cell_type": "code",
   "execution_count": 31,
   "metadata": {},
   "outputs": [],
   "source": [
    "data_clean = pv_data[[\"id\", \"plant_id\", \"zipcode\", \"lat\", \"lon\", \"power_kw\"]]\n",
    "data_clean.to_pickle(\"../data/pv_data_clean.pkl\")"
   ]
  },
  {
   "cell_type": "code",
   "execution_count": null,
   "metadata": {},
   "outputs": [],
   "source": []
  }
 ],
 "metadata": {
  "kernelspec": {
   "display_name": "Python 3.10.5 ('hackdays')",
   "language": "python",
   "name": "python3"
  },
  "language_info": {
   "codemirror_mode": {
    "name": "ipython",
    "version": 3
   },
   "file_extension": ".py",
   "mimetype": "text/x-python",
   "name": "python",
   "nbconvert_exporter": "python",
   "pygments_lexer": "ipython3",
   "version": "3.10.5"
  },
  "orig_nbformat": 4,
  "vscode": {
   "interpreter": {
    "hash": "2b6199258c78ebdb84d0708cdccc0f0fd636072841529b240ab4baad978a93ca"
   }
  }
 },
 "nbformat": 4,
 "nbformat_minor": 2
}
